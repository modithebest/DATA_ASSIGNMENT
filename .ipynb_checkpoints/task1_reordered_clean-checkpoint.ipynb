{
 "cells": [
  {
   "cell_type": "markdown",
   "id": "651348bc",
   "metadata": {},
   "source": [
    "## 1. Project Overview 🔎"
   ]
  },
  {
   "cell_type": "code",
   "execution_count": 1,
   "id": "0b1d6e15",
   "metadata": {},
   "outputs": [],
   "source": [
    "import pandas as pd \n",
    "import geopandas as gpd \n",
    "from shapely.geometry import Point, Polygon, MultiPolygon\n",
    "from geoalchemy2 import Geometry, WKTElement\n",
    "import matplotlib.pyplot as plt "
   ]
  },
  {
   "cell_type": "markdown",
   "id": "3e23105a",
   "metadata": {},
   "source": [
    "## 2. Environment Setup ⚙️"
   ]
  },
  {
   "cell_type": "code",
   "execution_count": 4,
   "id": "068986b5-db1c-4f9f-9d09-19432f5c4b59",
   "metadata": {},
   "outputs": [
    {
     "data": {
      "text/html": [
       "<div>\n",
       "<style scoped>\n",
       "    .dataframe tbody tr th:only-of-type {\n",
       "        vertical-align: middle;\n",
       "    }\n",
       "\n",
       "    .dataframe tbody tr th {\n",
       "        vertical-align: top;\n",
       "    }\n",
       "\n",
       "    .dataframe thead th {\n",
       "        text-align: right;\n",
       "    }\n",
       "</style>\n",
       "<table border=\"1\" class=\"dataframe\">\n",
       "  <thead>\n",
       "    <tr style=\"text-align: right;\">\n",
       "      <th></th>\n",
       "      <th>industry_code</th>\n",
       "      <th>industry_name</th>\n",
       "      <th>sa2_code</th>\n",
       "      <th>sa2_name</th>\n",
       "      <th>0_to_50k_businesses</th>\n",
       "      <th>50k_to_200k_businesses</th>\n",
       "      <th>200k_to_2m_businesses</th>\n",
       "      <th>2m_to_5m_businesses</th>\n",
       "      <th>5m_to_10m_businesses</th>\n",
       "      <th>10m_or_more_businesses</th>\n",
       "      <th>total_businesses</th>\n",
       "    </tr>\n",
       "  </thead>\n",
       "  <tbody>\n",
       "    <tr>\n",
       "      <th>0</th>\n",
       "      <td>A</td>\n",
       "      <td>Agriculture, Forestry and Fishing</td>\n",
       "      <td>101021007</td>\n",
       "      <td>Braidwood</td>\n",
       "      <td>136</td>\n",
       "      <td>92</td>\n",
       "      <td>63</td>\n",
       "      <td>4</td>\n",
       "      <td>0</td>\n",
       "      <td>0</td>\n",
       "      <td>296</td>\n",
       "    </tr>\n",
       "    <tr>\n",
       "      <th>1</th>\n",
       "      <td>A</td>\n",
       "      <td>Agriculture, Forestry and Fishing</td>\n",
       "      <td>101021008</td>\n",
       "      <td>Karabar</td>\n",
       "      <td>6</td>\n",
       "      <td>3</td>\n",
       "      <td>0</td>\n",
       "      <td>0</td>\n",
       "      <td>0</td>\n",
       "      <td>0</td>\n",
       "      <td>9</td>\n",
       "    </tr>\n",
       "    <tr>\n",
       "      <th>2</th>\n",
       "      <td>A</td>\n",
       "      <td>Agriculture, Forestry and Fishing</td>\n",
       "      <td>101021009</td>\n",
       "      <td>Queanbeyan</td>\n",
       "      <td>6</td>\n",
       "      <td>4</td>\n",
       "      <td>3</td>\n",
       "      <td>0</td>\n",
       "      <td>0</td>\n",
       "      <td>3</td>\n",
       "      <td>15</td>\n",
       "    </tr>\n",
       "    <tr>\n",
       "      <th>3</th>\n",
       "      <td>A</td>\n",
       "      <td>Agriculture, Forestry and Fishing</td>\n",
       "      <td>101021010</td>\n",
       "      <td>Queanbeyan - East</td>\n",
       "      <td>0</td>\n",
       "      <td>3</td>\n",
       "      <td>0</td>\n",
       "      <td>0</td>\n",
       "      <td>0</td>\n",
       "      <td>0</td>\n",
       "      <td>3</td>\n",
       "    </tr>\n",
       "    <tr>\n",
       "      <th>4</th>\n",
       "      <td>A</td>\n",
       "      <td>Agriculture, Forestry and Fishing</td>\n",
       "      <td>101021012</td>\n",
       "      <td>Queanbeyan West - Jerrabomberra</td>\n",
       "      <td>7</td>\n",
       "      <td>4</td>\n",
       "      <td>5</td>\n",
       "      <td>0</td>\n",
       "      <td>0</td>\n",
       "      <td>0</td>\n",
       "      <td>16</td>\n",
       "    </tr>\n",
       "  </tbody>\n",
       "</table>\n",
       "</div>"
      ],
      "text/plain": [
       "  industry_code                      industry_name   sa2_code  \\\n",
       "0             A  Agriculture, Forestry and Fishing  101021007   \n",
       "1             A  Agriculture, Forestry and Fishing  101021008   \n",
       "2             A  Agriculture, Forestry and Fishing  101021009   \n",
       "3             A  Agriculture, Forestry and Fishing  101021010   \n",
       "4             A  Agriculture, Forestry and Fishing  101021012   \n",
       "\n",
       "                          sa2_name  0_to_50k_businesses  \\\n",
       "0                        Braidwood                  136   \n",
       "1                          Karabar                    6   \n",
       "2                       Queanbeyan                    6   \n",
       "3                Queanbeyan - East                    0   \n",
       "4  Queanbeyan West - Jerrabomberra                    7   \n",
       "\n",
       "   50k_to_200k_businesses  200k_to_2m_businesses  2m_to_5m_businesses  \\\n",
       "0                      92                     63                    4   \n",
       "1                       3                      0                    0   \n",
       "2                       4                      3                    0   \n",
       "3                       3                      0                    0   \n",
       "4                       4                      5                    0   \n",
       "\n",
       "   5m_to_10m_businesses  10m_or_more_businesses  total_businesses  \n",
       "0                     0                       0               296  \n",
       "1                     0                       0                 9  \n",
       "2                     0                       3                15  \n",
       "3                     0                       0                 3  \n",
       "4                     0                       0                16  "
      ]
     },
     "execution_count": 4,
     "metadata": {},
     "output_type": "execute_result"
    }
   ],
   "source": [
    "business = pd.read_csv(\"Businesses.csv\")\n",
    "business.head()"
   ]
  },
  {
   "cell_type": "markdown",
   "id": "46802972",
   "metadata": {},
   "source": [
    "## 3. Configuration Block 🔐"
   ]
  },
  {
   "cell_type": "code",
   "execution_count": 6,
   "id": "67a49c5b-123d-4d79-b4a3-a515c53e2d82",
   "metadata": {},
   "outputs": [
    {
     "data": {
      "text/html": [
       "<div>\n",
       "<style scoped>\n",
       "    .dataframe tbody tr th:only-of-type {\n",
       "        vertical-align: middle;\n",
       "    }\n",
       "\n",
       "    .dataframe tbody tr th {\n",
       "        vertical-align: top;\n",
       "    }\n",
       "\n",
       "    .dataframe thead th {\n",
       "        text-align: right;\n",
       "    }\n",
       "</style>\n",
       "<table border=\"1\" class=\"dataframe\">\n",
       "  <thead>\n",
       "    <tr style=\"text-align: right;\">\n",
       "      <th></th>\n",
       "      <th>sa2_code21</th>\n",
       "      <th>sa2_name</th>\n",
       "      <th>earners</th>\n",
       "      <th>median_age</th>\n",
       "      <th>median_income</th>\n",
       "      <th>mean_income</th>\n",
       "    </tr>\n",
       "  </thead>\n",
       "  <tbody>\n",
       "    <tr>\n",
       "      <th>0</th>\n",
       "      <td>101021007</td>\n",
       "      <td>Braidwood</td>\n",
       "      <td>2467</td>\n",
       "      <td>51</td>\n",
       "      <td>46640</td>\n",
       "      <td>68904</td>\n",
       "    </tr>\n",
       "    <tr>\n",
       "      <th>1</th>\n",
       "      <td>101021008</td>\n",
       "      <td>Karabar</td>\n",
       "      <td>5103</td>\n",
       "      <td>42</td>\n",
       "      <td>65564</td>\n",
       "      <td>69672</td>\n",
       "    </tr>\n",
       "    <tr>\n",
       "      <th>2</th>\n",
       "      <td>101021009</td>\n",
       "      <td>Queanbeyan</td>\n",
       "      <td>7028</td>\n",
       "      <td>39</td>\n",
       "      <td>63528</td>\n",
       "      <td>69174</td>\n",
       "    </tr>\n",
       "    <tr>\n",
       "      <th>3</th>\n",
       "      <td>101021010</td>\n",
       "      <td>Queanbeyan - East</td>\n",
       "      <td>3398</td>\n",
       "      <td>39</td>\n",
       "      <td>66148</td>\n",
       "      <td>74162</td>\n",
       "    </tr>\n",
       "    <tr>\n",
       "      <th>4</th>\n",
       "      <td>101021012</td>\n",
       "      <td>Queanbeyan West - Jerrabomberra</td>\n",
       "      <td>8422</td>\n",
       "      <td>44</td>\n",
       "      <td>78630</td>\n",
       "      <td>91981</td>\n",
       "    </tr>\n",
       "  </tbody>\n",
       "</table>\n",
       "</div>"
      ],
      "text/plain": [
       "   sa2_code21                         sa2_name earners median_age  \\\n",
       "0   101021007                        Braidwood    2467         51   \n",
       "1   101021008                          Karabar    5103         42   \n",
       "2   101021009                       Queanbeyan    7028         39   \n",
       "3   101021010                Queanbeyan - East    3398         39   \n",
       "4   101021012  Queanbeyan West - Jerrabomberra    8422         44   \n",
       "\n",
       "  median_income mean_income  \n",
       "0         46640       68904  \n",
       "1         65564       69672  \n",
       "2         63528       69174  \n",
       "3         66148       74162  \n",
       "4         78630       91981  "
      ]
     },
     "execution_count": 6,
     "metadata": {},
     "output_type": "execute_result"
    }
   ],
   "source": [
    "income = pd.read_csv(\"income.csv\")\n",
    "income.head()"
   ]
  },
  {
   "cell_type": "markdown",
   "id": "24fd2fdf",
   "metadata": {},
   "source": [
    "## 4. Helper Utilities 🛠️"
   ]
  },
  {
   "cell_type": "code",
   "execution_count": 8,
   "id": "f55b935c-f004-4296-8240-8e0b02e0a4ea",
   "metadata": {},
   "outputs": [
    {
     "data": {
      "text/html": [
       "<div>\n",
       "<style scoped>\n",
       "    .dataframe tbody tr th:only-of-type {\n",
       "        vertical-align: middle;\n",
       "    }\n",
       "\n",
       "    .dataframe tbody tr th {\n",
       "        vertical-align: top;\n",
       "    }\n",
       "\n",
       "    .dataframe thead th {\n",
       "        text-align: right;\n",
       "    }\n",
       "</style>\n",
       "<table border=\"1\" class=\"dataframe\">\n",
       "  <thead>\n",
       "    <tr style=\"text-align: right;\">\n",
       "      <th></th>\n",
       "      <th>sa2_code</th>\n",
       "      <th>sa2_name</th>\n",
       "      <th>0-4_people</th>\n",
       "      <th>5-9_people</th>\n",
       "      <th>10-14_people</th>\n",
       "      <th>15-19_people</th>\n",
       "      <th>20-24_people</th>\n",
       "      <th>25-29_people</th>\n",
       "      <th>30-34_people</th>\n",
       "      <th>35-39_people</th>\n",
       "      <th>...</th>\n",
       "      <th>45-49_people</th>\n",
       "      <th>50-54_people</th>\n",
       "      <th>55-59_people</th>\n",
       "      <th>60-64_people</th>\n",
       "      <th>65-69_people</th>\n",
       "      <th>70-74_people</th>\n",
       "      <th>75-79_people</th>\n",
       "      <th>80-84_people</th>\n",
       "      <th>85-and-over_people</th>\n",
       "      <th>total_people</th>\n",
       "    </tr>\n",
       "  </thead>\n",
       "  <tbody>\n",
       "    <tr>\n",
       "      <th>0</th>\n",
       "      <td>102011028</td>\n",
       "      <td>Avoca Beach - Copacabana</td>\n",
       "      <td>424</td>\n",
       "      <td>522</td>\n",
       "      <td>623</td>\n",
       "      <td>552</td>\n",
       "      <td>386</td>\n",
       "      <td>222</td>\n",
       "      <td>306</td>\n",
       "      <td>416</td>\n",
       "      <td>...</td>\n",
       "      <td>572</td>\n",
       "      <td>602</td>\n",
       "      <td>570</td>\n",
       "      <td>520</td>\n",
       "      <td>464</td>\n",
       "      <td>369</td>\n",
       "      <td>226</td>\n",
       "      <td>142</td>\n",
       "      <td>70</td>\n",
       "      <td>7530</td>\n",
       "    </tr>\n",
       "    <tr>\n",
       "      <th>1</th>\n",
       "      <td>102011029</td>\n",
       "      <td>Box Head - MacMasters Beach</td>\n",
       "      <td>511</td>\n",
       "      <td>666</td>\n",
       "      <td>702</td>\n",
       "      <td>592</td>\n",
       "      <td>461</td>\n",
       "      <td>347</td>\n",
       "      <td>420</td>\n",
       "      <td>535</td>\n",
       "      <td>...</td>\n",
       "      <td>749</td>\n",
       "      <td>749</td>\n",
       "      <td>794</td>\n",
       "      <td>895</td>\n",
       "      <td>863</td>\n",
       "      <td>925</td>\n",
       "      <td>603</td>\n",
       "      <td>331</td>\n",
       "      <td>264</td>\n",
       "      <td>11052</td>\n",
       "    </tr>\n",
       "    <tr>\n",
       "      <th>2</th>\n",
       "      <td>102011030</td>\n",
       "      <td>Calga - Kulnura</td>\n",
       "      <td>200</td>\n",
       "      <td>225</td>\n",
       "      <td>258</td>\n",
       "      <td>278</td>\n",
       "      <td>274</td>\n",
       "      <td>227</td>\n",
       "      <td>214</td>\n",
       "      <td>286</td>\n",
       "      <td>...</td>\n",
       "      <td>325</td>\n",
       "      <td>436</td>\n",
       "      <td>422</td>\n",
       "      <td>397</td>\n",
       "      <td>327</td>\n",
       "      <td>264</td>\n",
       "      <td>190</td>\n",
       "      <td>100</td>\n",
       "      <td>75</td>\n",
       "      <td>4748</td>\n",
       "    </tr>\n",
       "    <tr>\n",
       "      <th>3</th>\n",
       "      <td>102011031</td>\n",
       "      <td>Erina - Green Point</td>\n",
       "      <td>683</td>\n",
       "      <td>804</td>\n",
       "      <td>880</td>\n",
       "      <td>838</td>\n",
       "      <td>661</td>\n",
       "      <td>502</td>\n",
       "      <td>587</td>\n",
       "      <td>757</td>\n",
       "      <td>...</td>\n",
       "      <td>859</td>\n",
       "      <td>882</td>\n",
       "      <td>901</td>\n",
       "      <td>930</td>\n",
       "      <td>917</td>\n",
       "      <td>1065</td>\n",
       "      <td>976</td>\n",
       "      <td>773</td>\n",
       "      <td>1028</td>\n",
       "      <td>14803</td>\n",
       "    </tr>\n",
       "    <tr>\n",
       "      <th>4</th>\n",
       "      <td>102011032</td>\n",
       "      <td>Gosford - Springfield</td>\n",
       "      <td>1164</td>\n",
       "      <td>1044</td>\n",
       "      <td>1084</td>\n",
       "      <td>1072</td>\n",
       "      <td>1499</td>\n",
       "      <td>1864</td>\n",
       "      <td>1750</td>\n",
       "      <td>1520</td>\n",
       "      <td>...</td>\n",
       "      <td>1330</td>\n",
       "      <td>1241</td>\n",
       "      <td>1377</td>\n",
       "      <td>1285</td>\n",
       "      <td>1166</td>\n",
       "      <td>949</td>\n",
       "      <td>664</td>\n",
       "      <td>476</td>\n",
       "      <td>537</td>\n",
       "      <td>21346</td>\n",
       "    </tr>\n",
       "  </tbody>\n",
       "</table>\n",
       "<p>5 rows × 21 columns</p>\n",
       "</div>"
      ],
      "text/plain": [
       "    sa2_code                     sa2_name  0-4_people  5-9_people  \\\n",
       "0  102011028     Avoca Beach - Copacabana         424         522   \n",
       "1  102011029  Box Head - MacMasters Beach         511         666   \n",
       "2  102011030              Calga - Kulnura         200         225   \n",
       "3  102011031          Erina - Green Point         683         804   \n",
       "4  102011032        Gosford - Springfield        1164        1044   \n",
       "\n",
       "   10-14_people  15-19_people  20-24_people  25-29_people  30-34_people  \\\n",
       "0           623           552           386           222           306   \n",
       "1           702           592           461           347           420   \n",
       "2           258           278           274           227           214   \n",
       "3           880           838           661           502           587   \n",
       "4          1084          1072          1499          1864          1750   \n",
       "\n",
       "   35-39_people  ...  45-49_people  50-54_people  55-59_people  60-64_people  \\\n",
       "0           416  ...           572           602           570           520   \n",
       "1           535  ...           749           749           794           895   \n",
       "2           286  ...           325           436           422           397   \n",
       "3           757  ...           859           882           901           930   \n",
       "4          1520  ...          1330          1241          1377          1285   \n",
       "\n",
       "   65-69_people  70-74_people  75-79_people  80-84_people  85-and-over_people  \\\n",
       "0           464           369           226           142                  70   \n",
       "1           863           925           603           331                 264   \n",
       "2           327           264           190           100                  75   \n",
       "3           917          1065           976           773                1028   \n",
       "4          1166           949           664           476                 537   \n",
       "\n",
       "   total_people  \n",
       "0          7530  \n",
       "1         11052  \n",
       "2          4748  \n",
       "3         14803  \n",
       "4         21346  \n",
       "\n",
       "[5 rows x 21 columns]"
      ]
     },
     "execution_count": 8,
     "metadata": {},
     "output_type": "execute_result"
    }
   ],
   "source": [
    "population = pd.read_csv(\"Population.csv\")\n",
    "population.head()"
   ]
  },
  {
   "cell_type": "markdown",
   "id": "9cb6221c",
   "metadata": {},
   "source": [
    "## 5. Database Connection"
   ]
  },
  {
   "cell_type": "code",
   "execution_count": 11,
   "id": "25eebed4-e912-45d9-b253-6b0dfc296b73",
   "metadata": {},
   "outputs": [],
   "source": [
    "from sqlalchemy import create_engine\n",
    "import psycopg2\n",
    "import psycopg2.extras\n",
    "import json\n",
    "\n",
    "credentials = \"Credentials.json\"\n",
    "\n",
    "def pgconnect(credential_filepath, db_schema=\"public\"):\n",
    "    with open(credential_filepath) as f:\n",
    "        db_conn_dict = json.load(f)\n",
    "        host       = db_conn_dict['host']\n",
    "        db_user    = db_conn_dict['user']\n",
    "        db_pw      = db_conn_dict['password']\n",
    "        default_db = db_conn_dict['user']\n",
    "        port       = db_conn_dict['port']\n",
    "        try:\n",
    "            db = create_engine(f'postgresql+psycopg2://{db_user}:{db_pw}@{host}:{port}/{default_db}', echo=False)\n",
    "            conn = db.connect()\n",
    "            print('Connected successfully.')\n",
    "        except Exception as e:\n",
    "            print(\"Unable to connect to the database.\")\n",
    "            print(e)\n",
    "            db, conn = None, None\n",
    "        return db,conn\n",
    "\n",
    "def query(conn, sqlcmd, args=None, df=True):\n",
    "    result = pd.DataFrame() if df else None\n",
    "    try:\n",
    "        if df:\n",
    "            result = pd.read_sql_query(sqlcmd, conn, params=args)\n",
    "        else:\n",
    "            result = conn.execute(text(sqlcmd), args).fetchall()\n",
    "            result = result[0] if len(result) == 1 else result\n",
    "    except Exception as e:\n",
    "        print(\"Error encountered: \", e, sep='\\n')\n",
    "    return result"
   ]
  },
  {
   "cell_type": "markdown",
   "id": "bcf24d2f",
   "metadata": {},
   "source": [
    "## 6. PostGIS Installation Check 🧪"
   ]
  },
  {
   "cell_type": "code",
   "execution_count": 14,
   "id": "c9b8e4e3-354e-43a6-8041-7e872c3e3b65",
   "metadata": {},
   "outputs": [
    {
     "name": "stdout",
     "output_type": "stream",
     "text": [
      "Connected successfully.\n"
     ]
    }
   ],
   "source": [
    "db, conn = pgconnect(credentials)"
   ]
  },
  {
   "cell_type": "markdown",
   "id": "9104e54c",
   "metadata": {},
   "source": [
    "## 7. Create Tables for Flat Data 🏗️"
   ]
  },
  {
   "cell_type": "code",
   "execution_count": 17,
   "id": "1508831f-5a85-42c9-8b8c-65852827edff",
   "metadata": {},
   "outputs": [
    {
     "data": {
      "text/html": [
       "<div>\n",
       "<style scoped>\n",
       "    .dataframe tbody tr th:only-of-type {\n",
       "        vertical-align: middle;\n",
       "    }\n",
       "\n",
       "    .dataframe tbody tr th {\n",
       "        vertical-align: top;\n",
       "    }\n",
       "\n",
       "    .dataframe thead th {\n",
       "        text-align: right;\n",
       "    }\n",
       "</style>\n",
       "<table border=\"1\" class=\"dataframe\">\n",
       "  <thead>\n",
       "    <tr style=\"text-align: right;\">\n",
       "      <th></th>\n",
       "      <th>postgis_version</th>\n",
       "    </tr>\n",
       "  </thead>\n",
       "  <tbody>\n",
       "    <tr>\n",
       "      <th>0</th>\n",
       "      <td>3.4 USE_GEOS=1 USE_PROJ=1 USE_STATS=1</td>\n",
       "    </tr>\n",
       "  </tbody>\n",
       "</table>\n",
       "</div>"
      ],
      "text/plain": [
       "                         postgis_version\n",
       "0  3.4 USE_GEOS=1 USE_PROJ=1 USE_STATS=1"
      ]
     },
     "execution_count": 17,
     "metadata": {},
     "output_type": "execute_result"
    }
   ],
   "source": [
    "query(conn, \"select PostGIS_Version()\")"
   ]
  },
  {
   "cell_type": "markdown",
   "id": "900a823f",
   "metadata": {},
   "source": [
    "## 8. Load & Clean Business, Income, and Population Tables 🏢💰👥"
   ]
  },
  {
   "cell_type": "code",
   "execution_count": 20,
   "id": "c57dc46f-562d-47f7-bda6-f3f0433bd445",
   "metadata": {},
   "outputs": [
    {
     "name": "stderr",
     "output_type": "stream",
     "text": [
      "/var/folders/ns/kmtnfgds5mgcmy7m6nrm2z8w0000gn/T/ipykernel_20325/1482712762.py:23: RemovedIn20Warning: Deprecated API features detected! These feature(s) are not compatible with SQLAlchemy 2.0. To prevent incompatible upgrades prior to updating applications, ensure requirements files are pinned to \"sqlalchemy<2.0\". Set environment variable SQLALCHEMY_WARN_20=1 to show all deprecation warnings.  Set environment variable SQLALCHEMY_SILENCE_UBER_WARNING=1 to silence this message. (Background on SQLAlchemy 2.0 at: https://sqlalche.me/e/b8d9)\n",
      "  conn.execute(text(create_sa2_sql))\n"
     ]
    },
    {
     "data": {
      "text/plain": [
       "<sqlalchemy.engine.cursor.LegacyCursorResult at 0x175edb490>"
      ]
     },
     "execution_count": 20,
     "metadata": {},
     "output_type": "execute_result"
    }
   ],
   "source": [
    "from sqlalchemy import text \n",
    "create_sa2_sql = \"\"\"\n",
    "DROP TABLE IF EXISTS public.sa2_regions;\n",
    "CREATE TABLE public.sa2_regions (\n",
    "    sa2_code_2021 TEXT PRIMARY KEY,\n",
    "    sa2_name_2021 TEXT,\n",
    "    geometry      GEOMETRY(MULTIPOLYGON,4326)\n",
    ");\n",
    "CREATE INDEX IF NOT EXISTS sa2_regions_geom_idx\n",
    "    ON public.sa2_regions USING GIST (geometry);\n",
    "\n",
    "DROP TABLE IF EXISTS public.stops;\n",
    "CREATE TABLE public.stops (\n",
    "    stop_id   TEXT PRIMARY KEY,\n",
    "    stop_name TEXT,\n",
    "    geometry  GEOMETRY(POINT,4326)\n",
    ");\n",
    "CREATE INDEX IF NOT EXISTS stops_geom_idx\n",
    "    ON public.stops USING GIST (geometry);\n",
    "\n",
    "\"\"\"\n",
    "\n",
    "conn.execute(text(create_sa2_sql))\n"
   ]
  },
  {
   "cell_type": "markdown",
   "id": "0257c423",
   "metadata": {},
   "source": [
    "## 9. Add Indexes & Constraints ⚡"
   ]
  },
  {
   "cell_type": "code",
   "execution_count": 23,
   "id": "e699f57d-3364-448f-8f70-64e4e8c37157",
   "metadata": {},
   "outputs": [
    {
     "name": "stdout",
     "output_type": "stream",
     "text": [
      "Loaded businesses: 12217 rows\n",
      "Loaded population: 373 rows\n",
      "Loaded income: 642 rows\n"
     ]
    }
   ],
   "source": [
    "for csv_file, table in [\n",
    "    (\"Businesses.csv\", \"businesses\"),\n",
    "    (\"Population.csv\", \"population\"),\n",
    "    (\"Income.csv\", \"income\"),\n",
    "]:\n",
    "    df = pd.read_csv(csv_file)\n",
    "    df.to_sql(\n",
    "        table,\n",
    "        conn,\n",
    "        schema = \"public\",\n",
    "        if_exists = \"replace\",\n",
    "        index = False,\n",
    "        method = \"multi\")\n",
    "    print(f\"Loaded {table}: {len(df)} rows\")\n"
   ]
  },
  {
   "cell_type": "markdown",
   "id": "cbc133ce",
   "metadata": {},
   "source": [
    "## 10. Load & Clean SA2 Boundaries 🗺️"
   ]
  },
  {
   "cell_type": "code",
   "execution_count": 25,
   "id": "21b7ff50-4c5a-4606-9d4f-c6725bb7b406",
   "metadata": {},
   "outputs": [
    {
     "name": "stdout",
     "output_type": "stream",
     "text": [
      "     column_name\n",
      "0     sa2_code21\n",
      "1       sa2_name\n",
      "2        earners\n",
      "3     median_age\n",
      "4  median_income\n",
      "5    mean_income\n",
      "['sa2_code21', 'sa2_name', 'earners', 'median_age', 'median_income', 'mean_income']\n"
     ]
    }
   ],
   "source": [
    "# Method A: using your helper\n",
    "cols = query(conn, \"\"\"\n",
    "    SELECT column_name\n",
    "    FROM information_schema.columns\n",
    "    WHERE table_name='income'\n",
    "      AND table_schema='public';\n",
    "\"\"\")\n",
    "print(cols)\n",
    "\n",
    "# Method B: manually fetch\n",
    "result = conn.execute(text(\"\"\"\n",
    "    SELECT column_name\n",
    "    FROM information_schema.columns\n",
    "    WHERE table_name='income'\n",
    "      AND table_schema='public';\n",
    "\"\"\"))\n",
    "print([row[0] for row in result.fetchall()])"
   ]
  },
  {
   "cell_type": "markdown",
   "id": "861fd5cd",
   "metadata": {},
   "source": [
    "### Create SA2 Table"
   ]
  },
  {
   "cell_type": "code",
   "execution_count": 28,
   "id": "c6074352-9d3f-4671-9d92-ee105f7481e3",
   "metadata": {},
   "outputs": [
    {
     "name": "stdout",
     "output_type": "stream",
     "text": [
      "Indexes created on sa2_code for all three tables.\n"
     ]
    }
   ],
   "source": [
    "from sqlalchemy import text\n",
    "\n",
    "conn.execute(text(\"\"\"\n",
    "    CREATE INDEX IF NOT EXISTS businesses_sa2_idx\n",
    "      ON public.businesses (sa2_code);\n",
    "    CREATE INDEX IF NOT EXISTS population_sa2_idx\n",
    "      ON public.population (sa2_code);\n",
    "    CREATE INDEX IF NOT EXISTS income_sa2_idx\n",
    "      ON public.income (sa2_code21);\n",
    "\"\"\"))\n",
    "print(\"Indexes created on sa2_code for all three tables.\")\n",
    "\n"
   ]
  },
  {
   "cell_type": "markdown",
   "id": "71e43022",
   "metadata": {},
   "source": [
    "### Insert SA2 to PostGIS"
   ]
  },
  {
   "cell_type": "code",
   "execution_count": 31,
   "id": "fb4aba06-ebe6-4b35-a921-98e1a757796f",
   "metadata": {},
   "outputs": [
    {
     "name": "stdout",
     "output_type": "stream",
     "text": [
      "Original CRS: EPSG:7844\n"
     ]
    },
    {
     "data": {
      "text/html": [
       "<div>\n",
       "<style scoped>\n",
       "    .dataframe tbody tr th:only-of-type {\n",
       "        vertical-align: middle;\n",
       "    }\n",
       "\n",
       "    .dataframe tbody tr th {\n",
       "        vertical-align: top;\n",
       "    }\n",
       "\n",
       "    .dataframe thead th {\n",
       "        text-align: right;\n",
       "    }\n",
       "</style>\n",
       "<table border=\"1\" class=\"dataframe\">\n",
       "  <thead>\n",
       "    <tr style=\"text-align: right;\">\n",
       "      <th></th>\n",
       "      <th>sa2_code</th>\n",
       "      <th>sa2_name</th>\n",
       "      <th>geometry</th>\n",
       "    </tr>\n",
       "  </thead>\n",
       "  <tbody>\n",
       "    <tr>\n",
       "      <th>0</th>\n",
       "      <td>101021007</td>\n",
       "      <td>Braidwood</td>\n",
       "      <td>POLYGON ((149.58 -35.444, 149.58 -35.444, 149....</td>\n",
       "    </tr>\n",
       "    <tr>\n",
       "      <th>1</th>\n",
       "      <td>101021008</td>\n",
       "      <td>Karabar</td>\n",
       "      <td>POLYGON ((149.22 -35.367, 149.22 -35.367, 149....</td>\n",
       "    </tr>\n",
       "    <tr>\n",
       "      <th>2</th>\n",
       "      <td>101021009</td>\n",
       "      <td>Queanbeyan</td>\n",
       "      <td>POLYGON ((149.21 -35.343, 149.22 -35.342, 149....</td>\n",
       "    </tr>\n",
       "    <tr>\n",
       "      <th>3</th>\n",
       "      <td>101021010</td>\n",
       "      <td>Queanbeyan - East</td>\n",
       "      <td>POLYGON ((149.24 -35.348, 149.24 -35.348, 149....</td>\n",
       "    </tr>\n",
       "    <tr>\n",
       "      <th>4</th>\n",
       "      <td>101021012</td>\n",
       "      <td>Queanbeyan West - Jerrabomberra</td>\n",
       "      <td>POLYGON ((149.2 -35.361, 149.2 -35.355, 149.2 ...</td>\n",
       "    </tr>\n",
       "  </tbody>\n",
       "</table>\n",
       "</div>"
      ],
      "text/plain": [
       "    sa2_code                         sa2_name  \\\n",
       "0  101021007                        Braidwood   \n",
       "1  101021008                          Karabar   \n",
       "2  101021009                       Queanbeyan   \n",
       "3  101021010                Queanbeyan - East   \n",
       "4  101021012  Queanbeyan West - Jerrabomberra   \n",
       "\n",
       "                                            geometry  \n",
       "0  POLYGON ((149.58 -35.444, 149.58 -35.444, 149....  \n",
       "1  POLYGON ((149.22 -35.367, 149.22 -35.367, 149....  \n",
       "2  POLYGON ((149.21 -35.343, 149.22 -35.342, 149....  \n",
       "3  POLYGON ((149.24 -35.348, 149.24 -35.348, 149....  \n",
       "4  POLYGON ((149.2 -35.361, 149.2 -35.355, 149.2 ...  "
      ]
     },
     "execution_count": 31,
     "metadata": {},
     "output_type": "execute_result"
    }
   ],
   "source": [
    "# Reading the shapefile and inspect\n",
    "import geopandas as gpd \n",
    "from geoalchemy2 import Geometry \n",
    "from sqlalchemy import text \n",
    "\n",
    "sa2 = gpd.read_file(\"SA2_2021_AUST_SHP_GDA2020/SA2_2021_AUST_GDA2020.shp\")\n",
    "print(\"Original CRS:\", sa2.crs)\n",
    "sa2 = sa2[[\"SA2_CODE21\", \"SA2_NAME21\", \"geometry\"]].rename(\n",
    "    columns={\"SA2_CODE21\":\"sa2_code\", \"SA2_NAME21\":\"sa2_name\"})\n",
    "sa2 = sa2.to_crs(4326)\n",
    "sa2.head()"
   ]
  },
  {
   "cell_type": "markdown",
   "id": "725754ea",
   "metadata": {},
   "source": [
    "### Ensure Spatial Index on SA2"
   ]
  },
  {
   "cell_type": "code",
   "execution_count": 34,
   "id": "c2ec6b33-7d0b-45ae-9d9b-cd1cde154306",
   "metadata": {},
   "outputs": [
    {
     "name": "stdout",
     "output_type": "stream",
     "text": [
      "Spatial table sa2_regions created.\n"
     ]
    }
   ],
   "source": [
    "ddl = \"\"\"\n",
    "DROP TABLE IF EXISTS public.sa2_regions;\n",
    "CREATE TABLE public.sa2_regions (\n",
    "    sa2_code TEXT PRIMARY KEY,\n",
    "    sa2_name TEXT,\n",
    "    geometry GEOMETRY(MULTIPOLYGON,4326)\n",
    ");\n",
    "CREATE INDEX IF NOT EXISTS sa2_regions_geom_idx\n",
    "  ON public.sa2_regions USING GIST (geometry);\n",
    "\"\"\"\n",
    "conn.execute(text(ddl))\n",
    "print(\"Spatial table sa2_regions created.\")"
   ]
  },
  {
   "cell_type": "markdown",
   "id": "810f4b7b",
   "metadata": {},
   "source": [
    "## 11. Load & Clean GTFS Stops 🚉"
   ]
  },
  {
   "cell_type": "code",
   "execution_count": 37,
   "id": "c39a83b5-a03d-4acc-8728-28ef93f37204",
   "metadata": {},
   "outputs": [
    {
     "name": "stdout",
     "output_type": "stream",
     "text": [
      "Inserted 2,473 SA2 rows.\n"
     ]
    }
   ],
   "source": [
    "sa2.to_postgis(\n",
    "    \"sa2_regions\", conn,\n",
    "    schema=\"public\",\n",
    "    if_exists=\"append\",   \n",
    "    index=False,\n",
    "    dtype={\"geometry\": Geometry(\"MULTIPOLYGON\", 4326)}\n",
    ")\n",
    "print(f\"Inserted {len(sa2):,} SA2 rows.\")"
   ]
  },
  {
   "cell_type": "markdown",
   "id": "1a5c7655",
   "metadata": {},
   "source": [
    "## 12. Load & Clean School Catchments 🏫"
   ]
  },
  {
   "cell_type": "code",
   "execution_count": 40,
   "id": "7d3bf6af-a409-4220-937e-26a6bbce015c",
   "metadata": {},
   "outputs": [
    {
     "name": "stdout",
     "output_type": "stream",
     "text": [
      "Primary key and GIST index verified/created.\n"
     ]
    }
   ],
   "source": [
    "from sqlalchemy import text\n",
    "\n",
    "conn.execute(text(\"\"\"\n",
    "DO $$\n",
    "BEGIN\n",
    "  -- add PK only if it doesn't exist\n",
    "  IF NOT EXISTS (\n",
    "      SELECT 1 FROM pg_constraint\n",
    "      WHERE conname = 'sa2_regions_pkey'\n",
    "  ) THEN\n",
    "      ALTER TABLE public.sa2_regions\n",
    "        ADD CONSTRAINT sa2_regions_pkey PRIMARY KEY (sa2_code);\n",
    "  END IF;\n",
    "\n",
    "  -- add GIST index only if it doesn't exist\n",
    "  IF NOT EXISTS (\n",
    "      SELECT 1 FROM pg_indexes\n",
    "      WHERE schemaname = 'public'\n",
    "        AND tablename  = 'sa2_regions'\n",
    "        AND indexname  = 'sa2_regions_geom_idx'\n",
    "  ) THEN\n",
    "      CREATE INDEX sa2_regions_geom_idx\n",
    "        ON public.sa2_regions USING GIST (geometry);\n",
    "  END IF;\n",
    "END $$;\n",
    "\"\"\"))\n",
    "\n",
    "print(\"Primary key and GIST index verified/created.\")\n",
    "\n"
   ]
  },
  {
   "cell_type": "markdown",
   "id": "ae4671f7",
   "metadata": {},
   "source": [
    "## 13. Final Validation ✅"
   ]
  },
  {
   "cell_type": "code",
   "execution_count": 43,
   "id": "8d6b3eca-72fd-4199-b14d-8e49830ce336",
   "metadata": {},
   "outputs": [
    {
     "name": "stdout",
     "output_type": "stream",
     "text": [
      "Inserted 114,718 stops\n"
     ]
    }
   ],
   "source": [
    "import pandas as pd, geopandas as gpd\n",
    "from geoalchemy2 import Geometry\n",
    "\n",
    "# build GeoDataFrame\n",
    "stops = pd.read_csv(\"Stops.txt\")\n",
    "stops_gdf = gpd.GeoDataFrame(\n",
    "    stops[[\"stop_id\",\"stop_name\"]],\n",
    "    geometry=gpd.points_from_xy(stops.stop_lon, stops.stop_lat),\n",
    "    crs=4326\n",
    ")\n",
    "\n",
    "# append rows\n",
    "stops_gdf.to_postgis(\"stops\", conn,\n",
    "                     schema=\"public\",\n",
    "                     if_exists=\"append\",   # structure already created\n",
    "                     index=False,\n",
    "                     dtype={\"geometry\": Geometry(\"POINT\",4326)})\n",
    "\n",
    "print(f\"Inserted {len(stops_gdf):,} stops\")\n"
   ]
  }
 ],
 "metadata": {
  "kernelspec": {
   "display_name": "Python [conda env:base] *",
   "language": "python",
   "name": "conda-base-py"
  },
  "language_info": {
   "codemirror_mode": {
    "name": "ipython",
    "version": 3
   },
   "file_extension": ".py",
   "mimetype": "text/x-python",
   "name": "python",
   "nbconvert_exporter": "python",
   "pygments_lexer": "ipython3",
   "version": "3.11.5"
  }
 },
 "nbformat": 4,
 "nbformat_minor": 5
}
